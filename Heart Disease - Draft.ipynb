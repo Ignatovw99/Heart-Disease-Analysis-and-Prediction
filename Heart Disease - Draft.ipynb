{
 "cells": [
  {
   "cell_type": "code",
   "execution_count": 1,
   "metadata": {},
   "outputs": [],
   "source": [
    "%matplotlib inline"
   ]
  },
  {
   "cell_type": "code",
   "execution_count": 2,
   "metadata": {},
   "outputs": [],
   "source": [
    "#Imports\n",
    "import numpy as np\n",
    "import pandas as pd\n",
    "import matplotlib.pyplot as plt\n",
    "\n",
    "import os"
   ]
  },
  {
   "cell_type": "code",
   "execution_count": 3,
   "metadata": {},
   "outputs": [],
   "source": [
    "plt.rcParams[\"figure.figsize\"] = (14, 6)"
   ]
  },
  {
   "cell_type": "markdown",
   "metadata": {},
   "source": [
    "# Heart Disease Analysis and Prediction - Draft"
   ]
  },
  {
   "cell_type": "markdown",
   "metadata": {},
   "source": [
    "### 1. Data Acquisition"
   ]
  },
  {
   "cell_type": "code",
   "execution_count": 4,
   "metadata": {},
   "outputs": [],
   "source": [
    "#TODO use the other dataset - processed.cleveland.data -> rename it and clean it much much carefully\n",
    "data_path = os.path.join(\"data\", \"heart-disease.data\")\n",
    "heart_data = pd.read_csv(data_path, header = None)\n",
    "# NOTE - use asserts"
   ]
  },
  {
   "cell_type": "code",
   "execution_count": 5,
   "metadata": {},
   "outputs": [
    {
     "data": {
      "text/html": [
       "<div>\n",
       "<style scoped>\n",
       "    .dataframe tbody tr th:only-of-type {\n",
       "        vertical-align: middle;\n",
       "    }\n",
       "\n",
       "    .dataframe tbody tr th {\n",
       "        vertical-align: top;\n",
       "    }\n",
       "\n",
       "    .dataframe thead th {\n",
       "        text-align: right;\n",
       "    }\n",
       "</style>\n",
       "<table border=\"1\" class=\"dataframe\">\n",
       "  <thead>\n",
       "    <tr style=\"text-align: right;\">\n",
       "      <th></th>\n",
       "      <th>0</th>\n",
       "      <th>1</th>\n",
       "      <th>2</th>\n",
       "      <th>3</th>\n",
       "      <th>4</th>\n",
       "      <th>5</th>\n",
       "      <th>6</th>\n",
       "      <th>7</th>\n",
       "      <th>8</th>\n",
       "      <th>9</th>\n",
       "      <th>10</th>\n",
       "      <th>11</th>\n",
       "      <th>12</th>\n",
       "      <th>13</th>\n",
       "    </tr>\n",
       "  </thead>\n",
       "  <tbody>\n",
       "    <tr>\n",
       "      <th>217</th>\n",
       "      <td>46.0</td>\n",
       "      <td>0.0</td>\n",
       "      <td>4.0</td>\n",
       "      <td>138.0</td>\n",
       "      <td>243.0</td>\n",
       "      <td>0.0</td>\n",
       "      <td>2.0</td>\n",
       "      <td>152.0</td>\n",
       "      <td>1.0</td>\n",
       "      <td>0.0</td>\n",
       "      <td>2.0</td>\n",
       "      <td>0.0</td>\n",
       "      <td>3.0</td>\n",
       "      <td>0</td>\n",
       "    </tr>\n",
       "    <tr>\n",
       "      <th>81</th>\n",
       "      <td>53.0</td>\n",
       "      <td>0.0</td>\n",
       "      <td>4.0</td>\n",
       "      <td>130.0</td>\n",
       "      <td>264.0</td>\n",
       "      <td>0.0</td>\n",
       "      <td>2.0</td>\n",
       "      <td>143.0</td>\n",
       "      <td>0.0</td>\n",
       "      <td>0.4</td>\n",
       "      <td>2.0</td>\n",
       "      <td>0.0</td>\n",
       "      <td>3.0</td>\n",
       "      <td>0</td>\n",
       "    </tr>\n",
       "    <tr>\n",
       "      <th>280</th>\n",
       "      <td>57.0</td>\n",
       "      <td>1.0</td>\n",
       "      <td>4.0</td>\n",
       "      <td>110.0</td>\n",
       "      <td>335.0</td>\n",
       "      <td>0.0</td>\n",
       "      <td>0.0</td>\n",
       "      <td>143.0</td>\n",
       "      <td>1.0</td>\n",
       "      <td>3.0</td>\n",
       "      <td>2.0</td>\n",
       "      <td>1.0</td>\n",
       "      <td>7.0</td>\n",
       "      <td>2</td>\n",
       "    </tr>\n",
       "    <tr>\n",
       "      <th>104</th>\n",
       "      <td>49.0</td>\n",
       "      <td>1.0</td>\n",
       "      <td>3.0</td>\n",
       "      <td>120.0</td>\n",
       "      <td>188.0</td>\n",
       "      <td>0.0</td>\n",
       "      <td>0.0</td>\n",
       "      <td>139.0</td>\n",
       "      <td>0.0</td>\n",
       "      <td>2.0</td>\n",
       "      <td>2.0</td>\n",
       "      <td>3.0</td>\n",
       "      <td>7.0</td>\n",
       "      <td>3</td>\n",
       "    </tr>\n",
       "    <tr>\n",
       "      <th>26</th>\n",
       "      <td>58.0</td>\n",
       "      <td>0.0</td>\n",
       "      <td>3.0</td>\n",
       "      <td>120.0</td>\n",
       "      <td>340.0</td>\n",
       "      <td>0.0</td>\n",
       "      <td>0.0</td>\n",
       "      <td>172.0</td>\n",
       "      <td>0.0</td>\n",
       "      <td>0.0</td>\n",
       "      <td>1.0</td>\n",
       "      <td>0.0</td>\n",
       "      <td>3.0</td>\n",
       "      <td>0</td>\n",
       "    </tr>\n",
       "  </tbody>\n",
       "</table>\n",
       "</div>"
      ],
      "text/plain": [
       "       0    1    2      3      4    5    6      7    8    9    10   11   12  \\\n",
       "217  46.0  0.0  4.0  138.0  243.0  0.0  2.0  152.0  1.0  0.0  2.0  0.0  3.0   \n",
       "81   53.0  0.0  4.0  130.0  264.0  0.0  2.0  143.0  0.0  0.4  2.0  0.0  3.0   \n",
       "280  57.0  1.0  4.0  110.0  335.0  0.0  0.0  143.0  1.0  3.0  2.0  1.0  7.0   \n",
       "104  49.0  1.0  3.0  120.0  188.0  0.0  0.0  139.0  0.0  2.0  2.0  3.0  7.0   \n",
       "26   58.0  0.0  3.0  120.0  340.0  0.0  0.0  172.0  0.0  0.0  1.0  0.0  3.0   \n",
       "\n",
       "     13  \n",
       "217   0  \n",
       "81    0  \n",
       "280   2  \n",
       "104   3  \n",
       "26    0  "
      ]
     },
     "execution_count": 5,
     "metadata": {},
     "output_type": "execute_result"
    }
   ],
   "source": [
    "heart_data.sample(5)"
   ]
  },
  {
   "cell_type": "code",
   "execution_count": 6,
   "metadata": {},
   "outputs": [
    {
     "data": {
      "text/plain": [
       "34.064"
      ]
     },
     "execution_count": 6,
     "metadata": {},
     "output_type": "execute_result"
    }
   ],
   "source": [
    "# Check the memory usage of the dataframe\n",
    "heart_data.memory_usage().sum() / 1000"
   ]
  },
  {
   "cell_type": "code",
   "execution_count": 7,
   "metadata": {},
   "outputs": [],
   "source": [
    "# Columns -> Rename columns and after that describe the variables what they mean -> see the documentation and the research info too\n",
    "#TODO - rename some columns\n",
    "heart_data.columns = [\n",
    "    \"age\", \"sex\", \"chest_pain_type\", \"rest_blood_pressure\", \"cholesterol\", \"diabetes\", \"ecg_rest\", \"heart_rate_max\",\n",
    "    \"exercise_angina\", \"oldpeak\", \"ST_slope\", \"vessels\", \"blood_flow\", \"heart_disease\"]"
   ]
  },
  {
   "cell_type": "code",
   "execution_count": 8,
   "metadata": {},
   "outputs": [
    {
     "data": {
      "text/plain": [
       "age                    float64\n",
       "sex                    float64\n",
       "chest_pain_type        float64\n",
       "rest_blood_pressure    float64\n",
       "cholesterol            float64\n",
       "diabetes               float64\n",
       "ecg_rest               float64\n",
       "heart_rate_max         float64\n",
       "exercise_angina        float64\n",
       "oldpeak                float64\n",
       "ST_slope               float64\n",
       "vessels                 object\n",
       "blood_flow              object\n",
       "heart_disease            int64\n",
       "dtype: object"
      ]
     },
     "execution_count": 8,
     "metadata": {},
     "output_type": "execute_result"
    }
   ],
   "source": [
    "# Data types -> Describe the data types of the variables but tell also that there are many categorical variables\n",
    "# Check ranges and value validity of each variable step by step clean -> Cleaning\n",
    "heart_data.dtypes"
   ]
  },
  {
   "cell_type": "code",
   "execution_count": 9,
   "metadata": {},
   "outputs": [
    {
     "data": {
      "text/plain": [
       "age                    0\n",
       "sex                    0\n",
       "chest_pain_type        0\n",
       "rest_blood_pressure    0\n",
       "cholesterol            0\n",
       "diabetes               0\n",
       "ecg_rest               0\n",
       "heart_rate_max         0\n",
       "exercise_angina        0\n",
       "oldpeak                0\n",
       "ST_slope               0\n",
       "vessels                0\n",
       "blood_flow             0\n",
       "heart_disease          0\n",
       "dtype: int64"
      ]
     },
     "execution_count": 9,
     "metadata": {},
     "output_type": "execute_result"
    }
   ],
   "source": [
    "# Check for null values\n",
    "heart_data.isnull().sum()"
   ]
  },
  {
   "cell_type": "markdown",
   "metadata": {},
   "source": [
    "### 2. Data Cleaning"
   ]
  },
  {
   "cell_type": "code",
   "execution_count": 10,
   "metadata": {},
   "outputs": [
    {
     "data": {
      "text/plain": [
       "0.0    176\n",
       "1.0     65\n",
       "2.0     38\n",
       "3.0     20\n",
       "?        4\n",
       "Name: vessels, dtype: int64"
      ]
     },
     "execution_count": 10,
     "metadata": {},
     "output_type": "execute_result"
    }
   ],
   "source": [
    "### First Nan cleaning\n",
    "#Clean vessels\n",
    "heart_data[\"vessels\"].value_counts() # Replace with 0 they are the most"
   ]
  },
  {
   "cell_type": "code",
   "execution_count": 11,
   "metadata": {},
   "outputs": [],
   "source": [
    "heart_data[\"vessels\"].replace(\"?\", \"0.0\", inplace = True)\n",
    "heart_data[\"vessels\"] = pd.to_numeric(heart_data[\"vessels\"]).astype(np.int64)"
   ]
  },
  {
   "cell_type": "code",
   "execution_count": 12,
   "metadata": {},
   "outputs": [
    {
     "data": {
      "text/plain": [
       "array(['6.0', '3.0', '7.0', '?'], dtype=object)"
      ]
     },
     "execution_count": 12,
     "metadata": {},
     "output_type": "execute_result"
    }
   ],
   "source": [
    "heart_data[\"blood_flow\"].unique()"
   ]
  },
  {
   "cell_type": "code",
   "execution_count": 13,
   "metadata": {},
   "outputs": [
    {
     "data": {
      "text/html": [
       "<div>\n",
       "<style scoped>\n",
       "    .dataframe tbody tr th:only-of-type {\n",
       "        vertical-align: middle;\n",
       "    }\n",
       "\n",
       "    .dataframe tbody tr th {\n",
       "        vertical-align: top;\n",
       "    }\n",
       "\n",
       "    .dataframe thead th {\n",
       "        text-align: right;\n",
       "    }\n",
       "</style>\n",
       "<table border=\"1\" class=\"dataframe\">\n",
       "  <thead>\n",
       "    <tr style=\"text-align: right;\">\n",
       "      <th></th>\n",
       "      <th>age</th>\n",
       "      <th>sex</th>\n",
       "      <th>chest_pain_type</th>\n",
       "      <th>rest_blood_pressure</th>\n",
       "      <th>cholesterol</th>\n",
       "      <th>diabetes</th>\n",
       "      <th>ecg_rest</th>\n",
       "      <th>heart_rate_max</th>\n",
       "      <th>exercise_angina</th>\n",
       "      <th>oldpeak</th>\n",
       "      <th>ST_slope</th>\n",
       "      <th>vessels</th>\n",
       "      <th>blood_flow</th>\n",
       "      <th>heart_disease</th>\n",
       "    </tr>\n",
       "  </thead>\n",
       "  <tbody>\n",
       "    <tr>\n",
       "      <th>87</th>\n",
       "      <td>53.0</td>\n",
       "      <td>0.0</td>\n",
       "      <td>3.0</td>\n",
       "      <td>128.0</td>\n",
       "      <td>216.0</td>\n",
       "      <td>0.0</td>\n",
       "      <td>2.0</td>\n",
       "      <td>115.0</td>\n",
       "      <td>0.0</td>\n",
       "      <td>0.0</td>\n",
       "      <td>1.0</td>\n",
       "      <td>0</td>\n",
       "      <td>?</td>\n",
       "      <td>0</td>\n",
       "    </tr>\n",
       "    <tr>\n",
       "      <th>266</th>\n",
       "      <td>52.0</td>\n",
       "      <td>1.0</td>\n",
       "      <td>4.0</td>\n",
       "      <td>128.0</td>\n",
       "      <td>204.0</td>\n",
       "      <td>1.0</td>\n",
       "      <td>0.0</td>\n",
       "      <td>156.0</td>\n",
       "      <td>1.0</td>\n",
       "      <td>1.0</td>\n",
       "      <td>2.0</td>\n",
       "      <td>0</td>\n",
       "      <td>?</td>\n",
       "      <td>2</td>\n",
       "    </tr>\n",
       "  </tbody>\n",
       "</table>\n",
       "</div>"
      ],
      "text/plain": [
       "      age  sex  chest_pain_type  rest_blood_pressure  cholesterol  diabetes  \\\n",
       "87   53.0  0.0              3.0                128.0        216.0       0.0   \n",
       "266  52.0  1.0              4.0                128.0        204.0       1.0   \n",
       "\n",
       "     ecg_rest  heart_rate_max  exercise_angina  oldpeak  ST_slope  vessels  \\\n",
       "87        2.0           115.0              0.0      0.0       1.0        0   \n",
       "266       0.0           156.0              1.0      1.0       2.0        0   \n",
       "\n",
       "    blood_flow  heart_disease  \n",
       "87           ?              0  \n",
       "266          ?              2  "
      ]
     },
     "execution_count": 13,
     "metadata": {},
     "output_type": "execute_result"
    }
   ],
   "source": [
    "heart_data.loc[heart_data[\"blood_flow\"] == \"?\"]"
   ]
  },
  {
   "cell_type": "code",
   "execution_count": 14,
   "metadata": {},
   "outputs": [
    {
     "data": {
      "text/plain": [
       "3.0    166\n",
       "7.0    117\n",
       "6.0     18\n",
       "?        2\n",
       "Name: blood_flow, dtype: int64"
      ]
     },
     "execution_count": 14,
     "metadata": {},
     "output_type": "execute_result"
    }
   ],
   "source": [
    "heart_data[\"blood_flow\"].value_counts()"
   ]
  },
  {
   "cell_type": "code",
   "execution_count": 15,
   "metadata": {},
   "outputs": [
    {
     "data": {
      "text/plain": [
       "3.0    129\n",
       "7.0     28\n",
       "6.0      6\n",
       "?        1\n",
       "Name: blood_flow, dtype: int64"
      ]
     },
     "execution_count": 15,
     "metadata": {},
     "output_type": "execute_result"
    }
   ],
   "source": [
    "heart_data.loc[heart_data[\"heart_disease\"] == 0][\"blood_flow\"].value_counts()"
   ]
  },
  {
   "cell_type": "code",
   "execution_count": 16,
   "metadata": {},
   "outputs": [
    {
     "data": {
      "text/plain": [
       "7.0    22\n",
       "3.0     7\n",
       "6.0     6\n",
       "?       1\n",
       "Name: blood_flow, dtype: int64"
      ]
     },
     "execution_count": 16,
     "metadata": {},
     "output_type": "execute_result"
    }
   ],
   "source": [
    "heart_data.loc[heart_data[\"heart_disease\"] == 2][\"blood_flow\"].value_counts()"
   ]
  },
  {
   "cell_type": "code",
   "execution_count": 17,
   "metadata": {},
   "outputs": [],
   "source": [
    "heart_data.loc[(heart_data[\"blood_flow\"] == \"?\") & (heart_data[\"heart_disease\"] == 0), \"blood_flow\"] = \"3.0\"\n",
    "heart_data.loc[(heart_data[\"blood_flow\"] == \"?\") & (heart_data[\"heart_disease\"] == 2), \"blood_flow\"] = \"7.0\""
   ]
  },
  {
   "cell_type": "code",
   "execution_count": 18,
   "metadata": {},
   "outputs": [
    {
     "data": {
      "text/plain": [
       "(29, 77)"
      ]
     },
     "execution_count": 18,
     "metadata": {},
     "output_type": "execute_result"
    }
   ],
   "source": [
    "# Clean continous varables\n",
    "# Age\n",
    "heart_data[\"age\"] = heart_data[\"age\"].astype(np.int64)\n",
    "heart_data[\"age\"].min(), heart_data[\"age\"].max() # -> It looks valid"
   ]
  },
  {
   "cell_type": "code",
   "execution_count": 19,
   "metadata": {},
   "outputs": [
    {
     "data": {
      "text/plain": [
       "(94, 200)"
      ]
     },
     "execution_count": 19,
     "metadata": {},
     "output_type": "execute_result"
    }
   ],
   "source": [
    "# Rest blood pressure cleaning -> Continious var\n",
    "heart_data[\"rest_blood_pressure\"] = heart_data[\"rest_blood_pressure\"].astype(np.int64)\n",
    "heart_data[\"rest_blood_pressure\"].min(), heart_data[\"rest_blood_pressure\"].max()"
   ]
  },
  {
   "cell_type": "code",
   "execution_count": 20,
   "metadata": {},
   "outputs": [
    {
     "data": {
      "text/plain": [
       "(126, 564)"
      ]
     },
     "execution_count": 20,
     "metadata": {},
     "output_type": "execute_result"
    }
   ],
   "source": [
    "heart_data[\"cholesterol\"] = heart_data[\"cholesterol\"].astype(np.int64)\n",
    "heart_data[\"cholesterol\"].min(), heart_data[\"cholesterol\"].max()   #Interpret the range - research normal, high and low values"
   ]
  },
  {
   "cell_type": "code",
   "execution_count": 21,
   "metadata": {},
   "outputs": [
    {
     "data": {
      "text/plain": [
       "(71, 202)"
      ]
     },
     "execution_count": 21,
     "metadata": {},
     "output_type": "execute_result"
    }
   ],
   "source": [
    "heart_data[\"heart_rate_max\"] = heart_data[\"heart_rate_max\"].astype(np.int64)\n",
    "heart_data[\"heart_rate_max\"].min(), heart_data[\"heart_rate_max\"].max() # Ok"
   ]
  },
  {
   "cell_type": "code",
   "execution_count": 22,
   "metadata": {},
   "outputs": [],
   "source": [
    "#TODO -> clena oldpeak - research it too"
   ]
  },
  {
   "cell_type": "code",
   "execution_count": 23,
   "metadata": {},
   "outputs": [
    {
     "data": {
      "text/plain": [
       "array([1., 0.])"
      ]
     },
     "execution_count": 23,
     "metadata": {},
     "output_type": "execute_result"
    }
   ],
   "source": [
    "# Clean categorical vars\n",
    "\n",
    "# Sex\n",
    "heart_data[\"sex\"].unique()  # Interpret the values"
   ]
  },
  {
   "cell_type": "code",
   "execution_count": 24,
   "metadata": {},
   "outputs": [],
   "source": [
    "# Transform sex to categorical variable\n",
    "sex_clean = heart_data[\"sex\"].astype(np.int32)\n",
    "heart_data[\"sex\"] = pd.Categorical(sex_clean)"
   ]
  },
  {
   "cell_type": "code",
   "execution_count": 25,
   "metadata": {},
   "outputs": [
    {
     "data": {
      "text/plain": [
       "array([1., 4., 3., 2.])"
      ]
     },
     "execution_count": 25,
     "metadata": {},
     "output_type": "execute_result"
    }
   ],
   "source": [
    "# Chest pain type cleaning  -> Four values -> category\n",
    "heart_data[\"chest_pain_type\"].unique()  # Interpret values"
   ]
  },
  {
   "cell_type": "code",
   "execution_count": 26,
   "metadata": {},
   "outputs": [],
   "source": [
    "chest_pain_clean = heart_data[\"chest_pain_type\"].astype(np.int32)\n",
    "heart_data[\"chest_pain_type\"] = pd.Categorical(chest_pain_clean)"
   ]
  },
  {
   "cell_type": "code",
   "execution_count": 27,
   "metadata": {},
   "outputs": [
    {
     "data": {
      "text/plain": [
       "array([2., 0., 1.])"
      ]
     },
     "execution_count": 27,
     "metadata": {},
     "output_type": "execute_result"
    }
   ],
   "source": [
    "# TODO -> clean resting ECG\n",
    "heart_data[\"ecg_rest\"].unique()"
   ]
  },
  {
   "cell_type": "code",
   "execution_count": 28,
   "metadata": {},
   "outputs": [],
   "source": [
    "ecg_clean = heart_data[\"ecg_rest\"].astype(np.int32)\n",
    "heart_data[\"ecg_rest\"] = pd.Categorical(ecg_clean)"
   ]
  },
  {
   "cell_type": "code",
   "execution_count": 29,
   "metadata": {},
   "outputs": [
    {
     "data": {
      "text/plain": [
       "array([3., 2., 1.])"
      ]
     },
     "execution_count": 29,
     "metadata": {},
     "output_type": "execute_result"
    }
   ],
   "source": [
    "heart_data[\"ST_slope\"].unique() # Interpret the values -> Show image"
   ]
  },
  {
   "cell_type": "code",
   "execution_count": 30,
   "metadata": {},
   "outputs": [],
   "source": [
    "st_slope_clean = heart_data[\"ST_slope\"].astype(np.int32)\n",
    "heart_data[\"ST_slope\"] = pd.Categorical(st_slope_clean)"
   ]
  },
  {
   "cell_type": "code",
   "execution_count": 31,
   "metadata": {},
   "outputs": [],
   "source": [
    "blood_flow_clean = pd.to_numeric(heart_data[\"blood_flow\"]).astype(np.int32)\n",
    "heart_data[\"blood_flow\"] = pd.Categorical(blood_flow_clean)"
   ]
  },
  {
   "cell_type": "code",
   "execution_count": 32,
   "metadata": {},
   "outputs": [
    {
     "data": {
      "text/plain": [
       "array([1., 0.])"
      ]
     },
     "execution_count": 32,
     "metadata": {},
     "output_type": "execute_result"
    }
   ],
   "source": [
    "# Clean boolean variables\n",
    "\n",
    "heart_data[\"diabetes\"].unique()"
   ]
  },
  {
   "cell_type": "code",
   "execution_count": 33,
   "metadata": {},
   "outputs": [],
   "source": [
    "diabetes_clean = heart_data[\"diabetes\"].astype(np.int32)\n",
    "heart_data[\"diabetes\"] = pd.Categorical(diabetes_clean)"
   ]
  },
  {
   "cell_type": "code",
   "execution_count": 34,
   "metadata": {},
   "outputs": [
    {
     "data": {
      "text/plain": [
       "array([0., 1.])"
      ]
     },
     "execution_count": 34,
     "metadata": {},
     "output_type": "execute_result"
    }
   ],
   "source": [
    "heart_data[\"exercise_angina\"].unique()"
   ]
  },
  {
   "cell_type": "code",
   "execution_count": 35,
   "metadata": {},
   "outputs": [],
   "source": [
    "exercise_angina_clean = heart_data[\"exercise_angina\"].astype(np.int32)\n",
    "heart_data[\"exercise_angina\"] = pd.Categorical(exercise_angina_clean)"
   ]
  },
  {
   "cell_type": "code",
   "execution_count": 36,
   "metadata": {},
   "outputs": [
    {
     "data": {
      "text/plain": [
       "array([0, 2, 1, 3, 4], dtype=int64)"
      ]
     },
     "execution_count": 36,
     "metadata": {},
     "output_type": "execute_result"
    }
   ],
   "source": [
    "# Clean the target\n",
    "# It is integer valued from 0 (no presence) to 4. Experiments with the Cleveland database have concentrated on simply\n",
    "#      attempting to distinguish presence (values 1,2,3,4) from absence (value 0). \n",
    "\n",
    "\n",
    "# diagnosis of heart disease (angiographic disease status)\n",
    "# -- Value 0: < 50% diameter narrowing\n",
    "# -- Value 1: > 50% diameter narrowing\n",
    "# presence (1-4) absence - 0\n",
    "\n",
    "heart_data[\"heart_disease\"].unique()"
   ]
  },
  {
   "cell_type": "code",
   "execution_count": 37,
   "metadata": {},
   "outputs": [],
   "source": [
    "def check_heart_disease_presence(heart_disease_rate):\n",
    "    return (1 if heart_disease_rate != 0 else 0)\n",
    "\n",
    "heart_data[\"heart_disease\"] = heart_data[\"heart_disease\"].apply(check_heart_disease_presence)"
   ]
  },
  {
   "cell_type": "code",
   "execution_count": 38,
   "metadata": {},
   "outputs": [
    {
     "name": "stdout",
     "output_type": "stream",
     "text": [
      "<class 'pandas.core.frame.DataFrame'>\n",
      "RangeIndex: 303 entries, 0 to 302\n",
      "Data columns (total 14 columns):\n",
      " #   Column               Non-Null Count  Dtype   \n",
      "---  ------               --------------  -----   \n",
      " 0   age                  303 non-null    int64   \n",
      " 1   sex                  303 non-null    category\n",
      " 2   chest_pain_type      303 non-null    category\n",
      " 3   rest_blood_pressure  303 non-null    int64   \n",
      " 4   cholesterol          303 non-null    int64   \n",
      " 5   diabetes             303 non-null    category\n",
      " 6   ecg_rest             303 non-null    category\n",
      " 7   heart_rate_max       303 non-null    int64   \n",
      " 8   exercise_angina      303 non-null    category\n",
      " 9   oldpeak              303 non-null    float64 \n",
      " 10  ST_slope             303 non-null    category\n",
      " 11  vessels              303 non-null    int64   \n",
      " 12  blood_flow           303 non-null    category\n",
      " 13  heart_disease        303 non-null    int64   \n",
      "dtypes: category(7), float64(1), int64(6)\n",
      "memory usage: 19.5 KB\n"
     ]
    }
   ],
   "source": [
    "heart_data.info() # Compare with the initial result on reading"
   ]
  },
  {
   "cell_type": "code",
   "execution_count": 39,
   "metadata": {},
   "outputs": [
    {
     "data": {
      "text/html": [
       "<div>\n",
       "<style scoped>\n",
       "    .dataframe tbody tr th:only-of-type {\n",
       "        vertical-align: middle;\n",
       "    }\n",
       "\n",
       "    .dataframe tbody tr th {\n",
       "        vertical-align: top;\n",
       "    }\n",
       "\n",
       "    .dataframe thead th {\n",
       "        text-align: right;\n",
       "    }\n",
       "</style>\n",
       "<table border=\"1\" class=\"dataframe\">\n",
       "  <thead>\n",
       "    <tr style=\"text-align: right;\">\n",
       "      <th></th>\n",
       "      <th>age</th>\n",
       "      <th>sex</th>\n",
       "      <th>chest_pain_type</th>\n",
       "      <th>rest_blood_pressure</th>\n",
       "      <th>cholesterol</th>\n",
       "      <th>diabetes</th>\n",
       "      <th>ecg_rest</th>\n",
       "      <th>heart_rate_max</th>\n",
       "      <th>exercise_angina</th>\n",
       "      <th>oldpeak</th>\n",
       "      <th>ST_slope</th>\n",
       "      <th>vessels</th>\n",
       "      <th>blood_flow</th>\n",
       "      <th>heart_disease</th>\n",
       "    </tr>\n",
       "  </thead>\n",
       "  <tbody>\n",
       "    <tr>\n",
       "      <th>0</th>\n",
       "      <td>63</td>\n",
       "      <td>1</td>\n",
       "      <td>1</td>\n",
       "      <td>145</td>\n",
       "      <td>233</td>\n",
       "      <td>1</td>\n",
       "      <td>2</td>\n",
       "      <td>150</td>\n",
       "      <td>0</td>\n",
       "      <td>2.3</td>\n",
       "      <td>3</td>\n",
       "      <td>0</td>\n",
       "      <td>6</td>\n",
       "      <td>0</td>\n",
       "    </tr>\n",
       "    <tr>\n",
       "      <th>1</th>\n",
       "      <td>67</td>\n",
       "      <td>1</td>\n",
       "      <td>4</td>\n",
       "      <td>160</td>\n",
       "      <td>286</td>\n",
       "      <td>0</td>\n",
       "      <td>2</td>\n",
       "      <td>108</td>\n",
       "      <td>1</td>\n",
       "      <td>1.5</td>\n",
       "      <td>2</td>\n",
       "      <td>3</td>\n",
       "      <td>3</td>\n",
       "      <td>1</td>\n",
       "    </tr>\n",
       "    <tr>\n",
       "      <th>2</th>\n",
       "      <td>67</td>\n",
       "      <td>1</td>\n",
       "      <td>4</td>\n",
       "      <td>120</td>\n",
       "      <td>229</td>\n",
       "      <td>0</td>\n",
       "      <td>2</td>\n",
       "      <td>129</td>\n",
       "      <td>1</td>\n",
       "      <td>2.6</td>\n",
       "      <td>2</td>\n",
       "      <td>2</td>\n",
       "      <td>7</td>\n",
       "      <td>1</td>\n",
       "    </tr>\n",
       "    <tr>\n",
       "      <th>3</th>\n",
       "      <td>37</td>\n",
       "      <td>1</td>\n",
       "      <td>3</td>\n",
       "      <td>130</td>\n",
       "      <td>250</td>\n",
       "      <td>0</td>\n",
       "      <td>0</td>\n",
       "      <td>187</td>\n",
       "      <td>0</td>\n",
       "      <td>3.5</td>\n",
       "      <td>3</td>\n",
       "      <td>0</td>\n",
       "      <td>3</td>\n",
       "      <td>0</td>\n",
       "    </tr>\n",
       "    <tr>\n",
       "      <th>4</th>\n",
       "      <td>41</td>\n",
       "      <td>0</td>\n",
       "      <td>2</td>\n",
       "      <td>130</td>\n",
       "      <td>204</td>\n",
       "      <td>0</td>\n",
       "      <td>2</td>\n",
       "      <td>172</td>\n",
       "      <td>0</td>\n",
       "      <td>1.4</td>\n",
       "      <td>1</td>\n",
       "      <td>0</td>\n",
       "      <td>3</td>\n",
       "      <td>0</td>\n",
       "    </tr>\n",
       "    <tr>\n",
       "      <th>...</th>\n",
       "      <td>...</td>\n",
       "      <td>...</td>\n",
       "      <td>...</td>\n",
       "      <td>...</td>\n",
       "      <td>...</td>\n",
       "      <td>...</td>\n",
       "      <td>...</td>\n",
       "      <td>...</td>\n",
       "      <td>...</td>\n",
       "      <td>...</td>\n",
       "      <td>...</td>\n",
       "      <td>...</td>\n",
       "      <td>...</td>\n",
       "      <td>...</td>\n",
       "    </tr>\n",
       "    <tr>\n",
       "      <th>298</th>\n",
       "      <td>45</td>\n",
       "      <td>1</td>\n",
       "      <td>1</td>\n",
       "      <td>110</td>\n",
       "      <td>264</td>\n",
       "      <td>0</td>\n",
       "      <td>0</td>\n",
       "      <td>132</td>\n",
       "      <td>0</td>\n",
       "      <td>1.2</td>\n",
       "      <td>2</td>\n",
       "      <td>0</td>\n",
       "      <td>7</td>\n",
       "      <td>1</td>\n",
       "    </tr>\n",
       "    <tr>\n",
       "      <th>299</th>\n",
       "      <td>68</td>\n",
       "      <td>1</td>\n",
       "      <td>4</td>\n",
       "      <td>144</td>\n",
       "      <td>193</td>\n",
       "      <td>1</td>\n",
       "      <td>0</td>\n",
       "      <td>141</td>\n",
       "      <td>0</td>\n",
       "      <td>3.4</td>\n",
       "      <td>2</td>\n",
       "      <td>2</td>\n",
       "      <td>7</td>\n",
       "      <td>1</td>\n",
       "    </tr>\n",
       "    <tr>\n",
       "      <th>300</th>\n",
       "      <td>57</td>\n",
       "      <td>1</td>\n",
       "      <td>4</td>\n",
       "      <td>130</td>\n",
       "      <td>131</td>\n",
       "      <td>0</td>\n",
       "      <td>0</td>\n",
       "      <td>115</td>\n",
       "      <td>1</td>\n",
       "      <td>1.2</td>\n",
       "      <td>2</td>\n",
       "      <td>1</td>\n",
       "      <td>7</td>\n",
       "      <td>1</td>\n",
       "    </tr>\n",
       "    <tr>\n",
       "      <th>301</th>\n",
       "      <td>57</td>\n",
       "      <td>0</td>\n",
       "      <td>2</td>\n",
       "      <td>130</td>\n",
       "      <td>236</td>\n",
       "      <td>0</td>\n",
       "      <td>2</td>\n",
       "      <td>174</td>\n",
       "      <td>0</td>\n",
       "      <td>0.0</td>\n",
       "      <td>2</td>\n",
       "      <td>1</td>\n",
       "      <td>3</td>\n",
       "      <td>1</td>\n",
       "    </tr>\n",
       "    <tr>\n",
       "      <th>302</th>\n",
       "      <td>38</td>\n",
       "      <td>1</td>\n",
       "      <td>3</td>\n",
       "      <td>138</td>\n",
       "      <td>175</td>\n",
       "      <td>0</td>\n",
       "      <td>0</td>\n",
       "      <td>173</td>\n",
       "      <td>0</td>\n",
       "      <td>0.0</td>\n",
       "      <td>1</td>\n",
       "      <td>0</td>\n",
       "      <td>3</td>\n",
       "      <td>0</td>\n",
       "    </tr>\n",
       "  </tbody>\n",
       "</table>\n",
       "<p>303 rows × 14 columns</p>\n",
       "</div>"
      ],
      "text/plain": [
       "     age sex chest_pain_type  rest_blood_pressure  cholesterol diabetes  \\\n",
       "0     63   1               1                  145          233        1   \n",
       "1     67   1               4                  160          286        0   \n",
       "2     67   1               4                  120          229        0   \n",
       "3     37   1               3                  130          250        0   \n",
       "4     41   0               2                  130          204        0   \n",
       "..   ...  ..             ...                  ...          ...      ...   \n",
       "298   45   1               1                  110          264        0   \n",
       "299   68   1               4                  144          193        1   \n",
       "300   57   1               4                  130          131        0   \n",
       "301   57   0               2                  130          236        0   \n",
       "302   38   1               3                  138          175        0   \n",
       "\n",
       "    ecg_rest  heart_rate_max exercise_angina  oldpeak ST_slope  vessels  \\\n",
       "0          2             150               0      2.3        3        0   \n",
       "1          2             108               1      1.5        2        3   \n",
       "2          2             129               1      2.6        2        2   \n",
       "3          0             187               0      3.5        3        0   \n",
       "4          2             172               0      1.4        1        0   \n",
       "..       ...             ...             ...      ...      ...      ...   \n",
       "298        0             132               0      1.2        2        0   \n",
       "299        0             141               0      3.4        2        2   \n",
       "300        0             115               1      1.2        2        1   \n",
       "301        2             174               0      0.0        2        1   \n",
       "302        0             173               0      0.0        1        0   \n",
       "\n",
       "    blood_flow  heart_disease  \n",
       "0            6              0  \n",
       "1            3              1  \n",
       "2            7              1  \n",
       "3            3              0  \n",
       "4            3              0  \n",
       "..         ...            ...  \n",
       "298          7              1  \n",
       "299          7              1  \n",
       "300          7              1  \n",
       "301          3              1  \n",
       "302          3              0  \n",
       "\n",
       "[303 rows x 14 columns]"
      ]
     },
     "execution_count": 39,
     "metadata": {},
     "output_type": "execute_result"
    }
   ],
   "source": [
    "heart_data"
   ]
  },
  {
   "cell_type": "code",
   "execution_count": 40,
   "metadata": {},
   "outputs": [
    {
     "data": {
      "text/plain": [
       "0"
      ]
     },
     "execution_count": 40,
     "metadata": {},
     "output_type": "execute_result"
    }
   ],
   "source": [
    "# Check for duplicates\n",
    "heart_data[heart_data.duplicated()].size"
   ]
  },
  {
   "cell_type": "code",
   "execution_count": 41,
   "metadata": {},
   "outputs": [],
   "source": [
    "# Data cleaning for the exploratory analysis   !!!!!!!!!!!!!!!!!!!!!!!!!!\n",
    "heart_data_eda = heart_data.copy(deep = True)"
   ]
  },
  {
   "cell_type": "code",
   "execution_count": 42,
   "metadata": {},
   "outputs": [],
   "source": [
    "\n",
    "# Transform sex to categorical variable\n",
    "def convert_sex_to_text(sex):\n",
    "    return \"Male\" if sex == 1 else \"Female\"\n",
    "\n",
    "sex_clean = heart_data_eda[\"sex\"].apply(convert_sex_to_text)\n",
    "heart_data_eda[\"sex\"] = pd.Categorical(sex_clean)"
   ]
  },
  {
   "cell_type": "code",
   "execution_count": 43,
   "metadata": {},
   "outputs": [],
   "source": [
    "def convert_chest_pain_type_to_text(pain_type):\n",
    "    chest_pain_types = {\n",
    "        1: \"typical angina\",\n",
    "        2: \"atypical angina\",\n",
    "        3: \"non-anginal pain\",\n",
    "        4: \"asymptomatic\"\n",
    "    }\n",
    "    return chest_pain_types.get(pain_type)\n",
    "\n",
    "chest_pain_clean = heart_data_eda[\"chest_pain_type\"].apply(convert_chest_pain_type_to_text)\n",
    "heart_data_eda[\"chest_pain_type\"] = pd.Categorical(chest_pain_clean)"
   ]
  },
  {
   "cell_type": "code",
   "execution_count": 44,
   "metadata": {},
   "outputs": [],
   "source": [
    "def convert_ecg_rest_to_text(ecg_rest):\n",
    "    ecg_results = {\n",
    "        0: \"normal\",\n",
    "        1: \"ST-T wave abnormality\",\n",
    "        2: \"left ventricular hypertrophy\"\n",
    "    }\n",
    "    return ecg_results.get(ecg_rest)\n",
    "\n",
    "ecg_clean = heart_data_eda[\"ecg_rest\"].apply(convert_ecg_rest_to_text)\n",
    "heart_data_eda[\"ecg_rest\"] = pd.Categorical(ecg_clean)"
   ]
  },
  {
   "cell_type": "code",
   "execution_count": 45,
   "metadata": {},
   "outputs": [],
   "source": [
    "def transform_ST_slope_to_text(ST_slope):\n",
    "    slope_types = {\n",
    "        1: \"upsloping\",\n",
    "        2: \"flat\",\n",
    "        3: \"downsloping\"\n",
    "    }\n",
    "    return slope_types.get(ST_slope)\n",
    "\n",
    "st_slope_clean = heart_data_eda[\"ST_slope\"].apply(transform_ST_slope_to_text)\n",
    "heart_data_eda[\"ST_slope\"] = pd.Categorical(st_slope_clean)"
   ]
  },
  {
   "cell_type": "code",
   "execution_count": 46,
   "metadata": {},
   "outputs": [],
   "source": [
    "def convert_blood_flow_to_text(blood_flow):\n",
    "    blood_flow_states = {\n",
    "        3: \"normal\",\n",
    "        6: \"fixed defect\",\n",
    "        7: \"reversible defect\"\n",
    "    }\n",
    "    return blood_flow_states.get(blood_flow)\n",
    "\n",
    "blood_flow_clean = heart_data_eda[\"blood_flow\"].apply(convert_blood_flow_to_text)\n",
    "heart_data_eda[\"blood_flow\"] = pd.Categorical(blood_flow_clean)"
   ]
  },
  {
   "cell_type": "code",
   "execution_count": 47,
   "metadata": {},
   "outputs": [],
   "source": [
    "\n",
    "heart_data_eda[\"diabetes\"] = heart_data_eda[\"diabetes\"].astype(np.bool)"
   ]
  },
  {
   "cell_type": "code",
   "execution_count": 48,
   "metadata": {},
   "outputs": [],
   "source": [
    "heart_data_eda[\"exercise_angina\"] = heart_data_eda[\"exercise_angina\"].astype(np.bool)"
   ]
  },
  {
   "cell_type": "code",
   "execution_count": 49,
   "metadata": {},
   "outputs": [
    {
     "name": "stdout",
     "output_type": "stream",
     "text": [
      "<class 'pandas.core.frame.DataFrame'>\n",
      "RangeIndex: 303 entries, 0 to 302\n",
      "Data columns (total 14 columns):\n",
      " #   Column               Non-Null Count  Dtype   \n",
      "---  ------               --------------  -----   \n",
      " 0   age                  303 non-null    int64   \n",
      " 1   sex                  303 non-null    category\n",
      " 2   chest_pain_type      303 non-null    category\n",
      " 3   rest_blood_pressure  303 non-null    int64   \n",
      " 4   cholesterol          303 non-null    int64   \n",
      " 5   diabetes             303 non-null    bool    \n",
      " 6   ecg_rest             303 non-null    category\n",
      " 7   heart_rate_max       303 non-null    int64   \n",
      " 8   exercise_angina      303 non-null    bool    \n",
      " 9   oldpeak              303 non-null    float64 \n",
      " 10  ST_slope             303 non-null    category\n",
      " 11  vessels              303 non-null    int64   \n",
      " 12  blood_flow           303 non-null    category\n",
      " 13  heart_disease        303 non-null    int64   \n",
      "dtypes: bool(2), category(5), float64(1), int64(6)\n",
      "memory usage: 19.4 KB\n"
     ]
    }
   ],
   "source": [
    "heart_data_eda.info()"
   ]
  },
  {
   "cell_type": "code",
   "execution_count": 50,
   "metadata": {},
   "outputs": [
    {
     "data": {
      "text/html": [
       "<div>\n",
       "<style scoped>\n",
       "    .dataframe tbody tr th:only-of-type {\n",
       "        vertical-align: middle;\n",
       "    }\n",
       "\n",
       "    .dataframe tbody tr th {\n",
       "        vertical-align: top;\n",
       "    }\n",
       "\n",
       "    .dataframe thead th {\n",
       "        text-align: right;\n",
       "    }\n",
       "</style>\n",
       "<table border=\"1\" class=\"dataframe\">\n",
       "  <thead>\n",
       "    <tr style=\"text-align: right;\">\n",
       "      <th></th>\n",
       "      <th>age</th>\n",
       "      <th>sex</th>\n",
       "      <th>chest_pain_type</th>\n",
       "      <th>rest_blood_pressure</th>\n",
       "      <th>cholesterol</th>\n",
       "      <th>diabetes</th>\n",
       "      <th>ecg_rest</th>\n",
       "      <th>heart_rate_max</th>\n",
       "      <th>exercise_angina</th>\n",
       "      <th>oldpeak</th>\n",
       "      <th>ST_slope</th>\n",
       "      <th>vessels</th>\n",
       "      <th>blood_flow</th>\n",
       "      <th>heart_disease</th>\n",
       "    </tr>\n",
       "  </thead>\n",
       "  <tbody>\n",
       "    <tr>\n",
       "      <th>0</th>\n",
       "      <td>63</td>\n",
       "      <td>Male</td>\n",
       "      <td>typical angina</td>\n",
       "      <td>145</td>\n",
       "      <td>233</td>\n",
       "      <td>True</td>\n",
       "      <td>left ventricular hypertrophy</td>\n",
       "      <td>150</td>\n",
       "      <td>False</td>\n",
       "      <td>2.3</td>\n",
       "      <td>downsloping</td>\n",
       "      <td>0</td>\n",
       "      <td>fixed defect</td>\n",
       "      <td>0</td>\n",
       "    </tr>\n",
       "    <tr>\n",
       "      <th>1</th>\n",
       "      <td>67</td>\n",
       "      <td>Male</td>\n",
       "      <td>asymptomatic</td>\n",
       "      <td>160</td>\n",
       "      <td>286</td>\n",
       "      <td>False</td>\n",
       "      <td>left ventricular hypertrophy</td>\n",
       "      <td>108</td>\n",
       "      <td>True</td>\n",
       "      <td>1.5</td>\n",
       "      <td>flat</td>\n",
       "      <td>3</td>\n",
       "      <td>normal</td>\n",
       "      <td>1</td>\n",
       "    </tr>\n",
       "    <tr>\n",
       "      <th>2</th>\n",
       "      <td>67</td>\n",
       "      <td>Male</td>\n",
       "      <td>asymptomatic</td>\n",
       "      <td>120</td>\n",
       "      <td>229</td>\n",
       "      <td>False</td>\n",
       "      <td>left ventricular hypertrophy</td>\n",
       "      <td>129</td>\n",
       "      <td>True</td>\n",
       "      <td>2.6</td>\n",
       "      <td>flat</td>\n",
       "      <td>2</td>\n",
       "      <td>reversible defect</td>\n",
       "      <td>1</td>\n",
       "    </tr>\n",
       "    <tr>\n",
       "      <th>3</th>\n",
       "      <td>37</td>\n",
       "      <td>Male</td>\n",
       "      <td>non-anginal pain</td>\n",
       "      <td>130</td>\n",
       "      <td>250</td>\n",
       "      <td>False</td>\n",
       "      <td>normal</td>\n",
       "      <td>187</td>\n",
       "      <td>False</td>\n",
       "      <td>3.5</td>\n",
       "      <td>downsloping</td>\n",
       "      <td>0</td>\n",
       "      <td>normal</td>\n",
       "      <td>0</td>\n",
       "    </tr>\n",
       "    <tr>\n",
       "      <th>4</th>\n",
       "      <td>41</td>\n",
       "      <td>Female</td>\n",
       "      <td>atypical angina</td>\n",
       "      <td>130</td>\n",
       "      <td>204</td>\n",
       "      <td>False</td>\n",
       "      <td>left ventricular hypertrophy</td>\n",
       "      <td>172</td>\n",
       "      <td>False</td>\n",
       "      <td>1.4</td>\n",
       "      <td>upsloping</td>\n",
       "      <td>0</td>\n",
       "      <td>normal</td>\n",
       "      <td>0</td>\n",
       "    </tr>\n",
       "  </tbody>\n",
       "</table>\n",
       "</div>"
      ],
      "text/plain": [
       "   age     sex   chest_pain_type  rest_blood_pressure  cholesterol  diabetes  \\\n",
       "0   63    Male    typical angina                  145          233      True   \n",
       "1   67    Male      asymptomatic                  160          286     False   \n",
       "2   67    Male      asymptomatic                  120          229     False   \n",
       "3   37    Male  non-anginal pain                  130          250     False   \n",
       "4   41  Female   atypical angina                  130          204     False   \n",
       "\n",
       "                       ecg_rest  heart_rate_max  exercise_angina  oldpeak  \\\n",
       "0  left ventricular hypertrophy             150            False      2.3   \n",
       "1  left ventricular hypertrophy             108             True      1.5   \n",
       "2  left ventricular hypertrophy             129             True      2.6   \n",
       "3                        normal             187            False      3.5   \n",
       "4  left ventricular hypertrophy             172            False      1.4   \n",
       "\n",
       "      ST_slope  vessels         blood_flow  heart_disease  \n",
       "0  downsloping        0       fixed defect              0  \n",
       "1         flat        3             normal              1  \n",
       "2         flat        2  reversible defect              1  \n",
       "3  downsloping        0             normal              0  \n",
       "4    upsloping        0             normal              0  "
      ]
     },
     "execution_count": 50,
     "metadata": {},
     "output_type": "execute_result"
    }
   ],
   "source": [
    "heart_data_eda.head(5)"
   ]
  },
  {
   "cell_type": "code",
   "execution_count": 51,
   "metadata": {},
   "outputs": [],
   "source": [
    "heart_disease_eda_path = os.path.join(\"output\", \"heart-disease-processed.data\")\n",
    "heart_data_eda.to_csv(heart_disease_eda_path, index = False)"
   ]
  },
  {
   "cell_type": "markdown",
   "metadata": {},
   "source": [
    "### 3. Expore the data\n",
    "#### 3.1. Structure - investigate the structure of the dataset\n",
    "Data strucure analysis helps us to get an insights into the dataset and undercover the underlying structure."
   ]
  },
  {
   "cell_type": "code",
   "execution_count": 52,
   "metadata": {},
   "outputs": [
    {
     "data": {
      "text/plain": [
       "(303, 14)"
      ]
     },
     "execution_count": 52,
     "metadata": {},
     "output_type": "execute_result"
    }
   ],
   "source": [
    "# Shape - describe how many observations and variable do we have\n",
    "heart_data_eda.shape   # TODO - write it as text and in a function"
   ]
  },
  {
   "cell_type": "code",
   "execution_count": 53,
   "metadata": {},
   "outputs": [
    {
     "name": "stdout",
     "output_type": "stream",
     "text": [
      "<class 'pandas.core.frame.DataFrame'>\n",
      "RangeIndex: 303 entries, 0 to 302\n",
      "Data columns (total 14 columns):\n",
      " #   Column               Non-Null Count  Dtype   \n",
      "---  ------               --------------  -----   \n",
      " 0   age                  303 non-null    int64   \n",
      " 1   sex                  303 non-null    category\n",
      " 2   chest_pain_type      303 non-null    category\n",
      " 3   rest_blood_pressure  303 non-null    int64   \n",
      " 4   cholesterol          303 non-null    int64   \n",
      " 5   diabetes             303 non-null    bool    \n",
      " 6   ecg_rest             303 non-null    category\n",
      " 7   heart_rate_max       303 non-null    int64   \n",
      " 8   exercise_angina      303 non-null    bool    \n",
      " 9   oldpeak              303 non-null    float64 \n",
      " 10  ST_slope             303 non-null    category\n",
      " 11  vessels              303 non-null    int64   \n",
      " 12  blood_flow           303 non-null    category\n",
      " 13  heart_disease        303 non-null    int64   \n",
      "dtypes: bool(2), category(5), float64(1), int64(6)\n",
      "memory usage: 19.4 KB\n"
     ]
    }
   ],
   "source": [
    "heart_data_eda.info()  #Describe it once again after the cleaning process"
   ]
  },
  {
   "cell_type": "code",
   "execution_count": 54,
   "metadata": {},
   "outputs": [
    {
     "data": {
      "text/html": [
       "<div>\n",
       "<style scoped>\n",
       "    .dataframe tbody tr th:only-of-type {\n",
       "        vertical-align: middle;\n",
       "    }\n",
       "\n",
       "    .dataframe tbody tr th {\n",
       "        vertical-align: top;\n",
       "    }\n",
       "\n",
       "    .dataframe thead th {\n",
       "        text-align: right;\n",
       "    }\n",
       "</style>\n",
       "<table border=\"1\" class=\"dataframe\">\n",
       "  <thead>\n",
       "    <tr style=\"text-align: right;\">\n",
       "      <th></th>\n",
       "      <th>age</th>\n",
       "      <th>sex</th>\n",
       "      <th>chest_pain_type</th>\n",
       "      <th>rest_blood_pressure</th>\n",
       "      <th>cholesterol</th>\n",
       "      <th>diabetes</th>\n",
       "      <th>ecg_rest</th>\n",
       "      <th>heart_rate_max</th>\n",
       "      <th>exercise_angina</th>\n",
       "      <th>oldpeak</th>\n",
       "      <th>ST_slope</th>\n",
       "      <th>vessels</th>\n",
       "      <th>blood_flow</th>\n",
       "      <th>heart_disease</th>\n",
       "    </tr>\n",
       "  </thead>\n",
       "  <tbody>\n",
       "    <tr>\n",
       "      <th>0</th>\n",
       "      <td>63</td>\n",
       "      <td>Male</td>\n",
       "      <td>typical angina</td>\n",
       "      <td>145</td>\n",
       "      <td>233</td>\n",
       "      <td>True</td>\n",
       "      <td>left ventricular hypertrophy</td>\n",
       "      <td>150</td>\n",
       "      <td>False</td>\n",
       "      <td>2.3</td>\n",
       "      <td>downsloping</td>\n",
       "      <td>0</td>\n",
       "      <td>fixed defect</td>\n",
       "      <td>0</td>\n",
       "    </tr>\n",
       "    <tr>\n",
       "      <th>1</th>\n",
       "      <td>67</td>\n",
       "      <td>Male</td>\n",
       "      <td>asymptomatic</td>\n",
       "      <td>160</td>\n",
       "      <td>286</td>\n",
       "      <td>False</td>\n",
       "      <td>left ventricular hypertrophy</td>\n",
       "      <td>108</td>\n",
       "      <td>True</td>\n",
       "      <td>1.5</td>\n",
       "      <td>flat</td>\n",
       "      <td>3</td>\n",
       "      <td>normal</td>\n",
       "      <td>1</td>\n",
       "    </tr>\n",
       "    <tr>\n",
       "      <th>2</th>\n",
       "      <td>67</td>\n",
       "      <td>Male</td>\n",
       "      <td>asymptomatic</td>\n",
       "      <td>120</td>\n",
       "      <td>229</td>\n",
       "      <td>False</td>\n",
       "      <td>left ventricular hypertrophy</td>\n",
       "      <td>129</td>\n",
       "      <td>True</td>\n",
       "      <td>2.6</td>\n",
       "      <td>flat</td>\n",
       "      <td>2</td>\n",
       "      <td>reversible defect</td>\n",
       "      <td>1</td>\n",
       "    </tr>\n",
       "    <tr>\n",
       "      <th>3</th>\n",
       "      <td>37</td>\n",
       "      <td>Male</td>\n",
       "      <td>non-anginal pain</td>\n",
       "      <td>130</td>\n",
       "      <td>250</td>\n",
       "      <td>False</td>\n",
       "      <td>normal</td>\n",
       "      <td>187</td>\n",
       "      <td>False</td>\n",
       "      <td>3.5</td>\n",
       "      <td>downsloping</td>\n",
       "      <td>0</td>\n",
       "      <td>normal</td>\n",
       "      <td>0</td>\n",
       "    </tr>\n",
       "    <tr>\n",
       "      <th>4</th>\n",
       "      <td>41</td>\n",
       "      <td>Female</td>\n",
       "      <td>atypical angina</td>\n",
       "      <td>130</td>\n",
       "      <td>204</td>\n",
       "      <td>False</td>\n",
       "      <td>left ventricular hypertrophy</td>\n",
       "      <td>172</td>\n",
       "      <td>False</td>\n",
       "      <td>1.4</td>\n",
       "      <td>upsloping</td>\n",
       "      <td>0</td>\n",
       "      <td>normal</td>\n",
       "      <td>0</td>\n",
       "    </tr>\n",
       "  </tbody>\n",
       "</table>\n",
       "</div>"
      ],
      "text/plain": [
       "   age     sex   chest_pain_type  rest_blood_pressure  cholesterol  diabetes  \\\n",
       "0   63    Male    typical angina                  145          233      True   \n",
       "1   67    Male      asymptomatic                  160          286     False   \n",
       "2   67    Male      asymptomatic                  120          229     False   \n",
       "3   37    Male  non-anginal pain                  130          250     False   \n",
       "4   41  Female   atypical angina                  130          204     False   \n",
       "\n",
       "                       ecg_rest  heart_rate_max  exercise_angina  oldpeak  \\\n",
       "0  left ventricular hypertrophy             150            False      2.3   \n",
       "1  left ventricular hypertrophy             108             True      1.5   \n",
       "2  left ventricular hypertrophy             129             True      2.6   \n",
       "3                        normal             187            False      3.5   \n",
       "4  left ventricular hypertrophy             172            False      1.4   \n",
       "\n",
       "      ST_slope  vessels         blood_flow  heart_disease  \n",
       "0  downsloping        0       fixed defect              0  \n",
       "1         flat        3             normal              1  \n",
       "2         flat        2  reversible defect              1  \n",
       "3  downsloping        0             normal              0  \n",
       "4    upsloping        0             normal              0  "
      ]
     },
     "execution_count": 54,
     "metadata": {},
     "output_type": "execute_result"
    }
   ],
   "source": [
    "# Display several observation in order to get a sence of the data -> Tell what you see in one, two sentances\n",
    "heart_data_eda.head()"
   ]
  },
  {
   "cell_type": "code",
   "execution_count": 55,
   "metadata": {},
   "outputs": [
    {
     "data": {
      "text/html": [
       "<div>\n",
       "<style scoped>\n",
       "    .dataframe tbody tr th:only-of-type {\n",
       "        vertical-align: middle;\n",
       "    }\n",
       "\n",
       "    .dataframe tbody tr th {\n",
       "        vertical-align: top;\n",
       "    }\n",
       "\n",
       "    .dataframe thead th {\n",
       "        text-align: right;\n",
       "    }\n",
       "</style>\n",
       "<table border=\"1\" class=\"dataframe\">\n",
       "  <thead>\n",
       "    <tr style=\"text-align: right;\">\n",
       "      <th></th>\n",
       "      <th>age</th>\n",
       "      <th>sex</th>\n",
       "      <th>chest_pain_type</th>\n",
       "      <th>rest_blood_pressure</th>\n",
       "      <th>cholesterol</th>\n",
       "      <th>diabetes</th>\n",
       "      <th>ecg_rest</th>\n",
       "      <th>heart_rate_max</th>\n",
       "      <th>exercise_angina</th>\n",
       "      <th>oldpeak</th>\n",
       "      <th>ST_slope</th>\n",
       "      <th>vessels</th>\n",
       "      <th>blood_flow</th>\n",
       "      <th>heart_disease</th>\n",
       "    </tr>\n",
       "  </thead>\n",
       "  <tbody>\n",
       "    <tr>\n",
       "      <th>300</th>\n",
       "      <td>57</td>\n",
       "      <td>Male</td>\n",
       "      <td>asymptomatic</td>\n",
       "      <td>130</td>\n",
       "      <td>131</td>\n",
       "      <td>False</td>\n",
       "      <td>normal</td>\n",
       "      <td>115</td>\n",
       "      <td>True</td>\n",
       "      <td>1.2</td>\n",
       "      <td>flat</td>\n",
       "      <td>1</td>\n",
       "      <td>reversible defect</td>\n",
       "      <td>1</td>\n",
       "    </tr>\n",
       "    <tr>\n",
       "      <th>301</th>\n",
       "      <td>57</td>\n",
       "      <td>Female</td>\n",
       "      <td>atypical angina</td>\n",
       "      <td>130</td>\n",
       "      <td>236</td>\n",
       "      <td>False</td>\n",
       "      <td>left ventricular hypertrophy</td>\n",
       "      <td>174</td>\n",
       "      <td>False</td>\n",
       "      <td>0.0</td>\n",
       "      <td>flat</td>\n",
       "      <td>1</td>\n",
       "      <td>normal</td>\n",
       "      <td>1</td>\n",
       "    </tr>\n",
       "    <tr>\n",
       "      <th>302</th>\n",
       "      <td>38</td>\n",
       "      <td>Male</td>\n",
       "      <td>non-anginal pain</td>\n",
       "      <td>138</td>\n",
       "      <td>175</td>\n",
       "      <td>False</td>\n",
       "      <td>normal</td>\n",
       "      <td>173</td>\n",
       "      <td>False</td>\n",
       "      <td>0.0</td>\n",
       "      <td>upsloping</td>\n",
       "      <td>0</td>\n",
       "      <td>normal</td>\n",
       "      <td>0</td>\n",
       "    </tr>\n",
       "  </tbody>\n",
       "</table>\n",
       "</div>"
      ],
      "text/plain": [
       "     age     sex   chest_pain_type  rest_blood_pressure  cholesterol  \\\n",
       "300   57    Male      asymptomatic                  130          131   \n",
       "301   57  Female   atypical angina                  130          236   \n",
       "302   38    Male  non-anginal pain                  138          175   \n",
       "\n",
       "     diabetes                      ecg_rest  heart_rate_max  exercise_angina  \\\n",
       "300     False                        normal             115             True   \n",
       "301     False  left ventricular hypertrophy             174            False   \n",
       "302     False                        normal             173            False   \n",
       "\n",
       "     oldpeak   ST_slope  vessels         blood_flow  heart_disease  \n",
       "300      1.2       flat        1  reversible defect              1  \n",
       "301      0.0       flat        1             normal              1  \n",
       "302      0.0  upsloping        0             normal              0  "
      ]
     },
     "execution_count": 55,
     "metadata": {},
     "output_type": "execute_result"
    }
   ],
   "source": [
    "heart_data_eda.tail(3)"
   ]
  },
  {
   "cell_type": "markdown",
   "metadata": {},
   "source": [
    "#### 3.2. Summary Statistics"
   ]
  },
  {
   "cell_type": "code",
   "execution_count": 56,
   "metadata": {},
   "outputs": [
    {
     "data": {
      "text/html": [
       "<div>\n",
       "<style scoped>\n",
       "    .dataframe tbody tr th:only-of-type {\n",
       "        vertical-align: middle;\n",
       "    }\n",
       "\n",
       "    .dataframe tbody tr th {\n",
       "        vertical-align: top;\n",
       "    }\n",
       "\n",
       "    .dataframe thead th {\n",
       "        text-align: right;\n",
       "    }\n",
       "</style>\n",
       "<table border=\"1\" class=\"dataframe\">\n",
       "  <thead>\n",
       "    <tr style=\"text-align: right;\">\n",
       "      <th></th>\n",
       "      <th>count</th>\n",
       "      <th>mean</th>\n",
       "      <th>std</th>\n",
       "      <th>min</th>\n",
       "      <th>25%</th>\n",
       "      <th>50%</th>\n",
       "      <th>75%</th>\n",
       "      <th>max</th>\n",
       "    </tr>\n",
       "  </thead>\n",
       "  <tbody>\n",
       "    <tr>\n",
       "      <th>age</th>\n",
       "      <td>303.0</td>\n",
       "      <td>54.438944</td>\n",
       "      <td>9.038662</td>\n",
       "      <td>29.0</td>\n",
       "      <td>48.0</td>\n",
       "      <td>56.0</td>\n",
       "      <td>61.0</td>\n",
       "      <td>77.0</td>\n",
       "    </tr>\n",
       "    <tr>\n",
       "      <th>rest_blood_pressure</th>\n",
       "      <td>303.0</td>\n",
       "      <td>131.689769</td>\n",
       "      <td>17.599748</td>\n",
       "      <td>94.0</td>\n",
       "      <td>120.0</td>\n",
       "      <td>130.0</td>\n",
       "      <td>140.0</td>\n",
       "      <td>200.0</td>\n",
       "    </tr>\n",
       "    <tr>\n",
       "      <th>cholesterol</th>\n",
       "      <td>303.0</td>\n",
       "      <td>246.693069</td>\n",
       "      <td>51.776918</td>\n",
       "      <td>126.0</td>\n",
       "      <td>211.0</td>\n",
       "      <td>241.0</td>\n",
       "      <td>275.0</td>\n",
       "      <td>564.0</td>\n",
       "    </tr>\n",
       "    <tr>\n",
       "      <th>heart_rate_max</th>\n",
       "      <td>303.0</td>\n",
       "      <td>149.607261</td>\n",
       "      <td>22.875003</td>\n",
       "      <td>71.0</td>\n",
       "      <td>133.5</td>\n",
       "      <td>153.0</td>\n",
       "      <td>166.0</td>\n",
       "      <td>202.0</td>\n",
       "    </tr>\n",
       "    <tr>\n",
       "      <th>oldpeak</th>\n",
       "      <td>303.0</td>\n",
       "      <td>1.039604</td>\n",
       "      <td>1.161075</td>\n",
       "      <td>0.0</td>\n",
       "      <td>0.0</td>\n",
       "      <td>0.8</td>\n",
       "      <td>1.6</td>\n",
       "      <td>6.2</td>\n",
       "    </tr>\n",
       "    <tr>\n",
       "      <th>vessels</th>\n",
       "      <td>303.0</td>\n",
       "      <td>0.663366</td>\n",
       "      <td>0.934375</td>\n",
       "      <td>0.0</td>\n",
       "      <td>0.0</td>\n",
       "      <td>0.0</td>\n",
       "      <td>1.0</td>\n",
       "      <td>3.0</td>\n",
       "    </tr>\n",
       "    <tr>\n",
       "      <th>heart_disease</th>\n",
       "      <td>303.0</td>\n",
       "      <td>0.458746</td>\n",
       "      <td>0.499120</td>\n",
       "      <td>0.0</td>\n",
       "      <td>0.0</td>\n",
       "      <td>0.0</td>\n",
       "      <td>1.0</td>\n",
       "      <td>1.0</td>\n",
       "    </tr>\n",
       "  </tbody>\n",
       "</table>\n",
       "</div>"
      ],
      "text/plain": [
       "                     count        mean        std    min    25%    50%    75%  \\\n",
       "age                  303.0   54.438944   9.038662   29.0   48.0   56.0   61.0   \n",
       "rest_blood_pressure  303.0  131.689769  17.599748   94.0  120.0  130.0  140.0   \n",
       "cholesterol          303.0  246.693069  51.776918  126.0  211.0  241.0  275.0   \n",
       "heart_rate_max       303.0  149.607261  22.875003   71.0  133.5  153.0  166.0   \n",
       "oldpeak              303.0    1.039604   1.161075    0.0    0.0    0.8    1.6   \n",
       "vessels              303.0    0.663366   0.934375    0.0    0.0    0.0    1.0   \n",
       "heart_disease        303.0    0.458746   0.499120    0.0    0.0    0.0    1.0   \n",
       "\n",
       "                       max  \n",
       "age                   77.0  \n",
       "rest_blood_pressure  200.0  \n",
       "cholesterol          564.0  \n",
       "heart_rate_max       202.0  \n",
       "oldpeak                6.2  \n",
       "vessels                3.0  \n",
       "heart_disease          1.0  "
      ]
     },
     "execution_count": 56,
     "metadata": {},
     "output_type": "execute_result"
    }
   ],
   "source": [
    "# 3.2.1. First show summary statistics for all of the numeric variables -> Make some assumptions and expectations for their distributions\n",
    "# When expolring each distribution of the numeric variable calculate other summary statistics manually for example range, variance, percentile etc.\n",
    "# TODO: plot some of the summary statistics on the distributions\n",
    "heart_data_eda.describe().T"
   ]
  },
  {
   "cell_type": "code",
   "execution_count": 57,
   "metadata": {},
   "outputs": [
    {
     "data": {
      "text/html": [
       "<div>\n",
       "<style scoped>\n",
       "    .dataframe tbody tr th:only-of-type {\n",
       "        vertical-align: middle;\n",
       "    }\n",
       "\n",
       "    .dataframe tbody tr th {\n",
       "        vertical-align: top;\n",
       "    }\n",
       "\n",
       "    .dataframe thead th {\n",
       "        text-align: right;\n",
       "    }\n",
       "</style>\n",
       "<table border=\"1\" class=\"dataframe\">\n",
       "  <thead>\n",
       "    <tr style=\"text-align: right;\">\n",
       "      <th></th>\n",
       "      <th>count</th>\n",
       "      <th>unique</th>\n",
       "      <th>top</th>\n",
       "      <th>freq</th>\n",
       "    </tr>\n",
       "  </thead>\n",
       "  <tbody>\n",
       "    <tr>\n",
       "      <th>sex</th>\n",
       "      <td>303</td>\n",
       "      <td>2</td>\n",
       "      <td>Male</td>\n",
       "      <td>206</td>\n",
       "    </tr>\n",
       "    <tr>\n",
       "      <th>chest_pain_type</th>\n",
       "      <td>303</td>\n",
       "      <td>4</td>\n",
       "      <td>asymptomatic</td>\n",
       "      <td>144</td>\n",
       "    </tr>\n",
       "    <tr>\n",
       "      <th>diabetes</th>\n",
       "      <td>303</td>\n",
       "      <td>2</td>\n",
       "      <td>False</td>\n",
       "      <td>258</td>\n",
       "    </tr>\n",
       "    <tr>\n",
       "      <th>ecg_rest</th>\n",
       "      <td>303</td>\n",
       "      <td>3</td>\n",
       "      <td>normal</td>\n",
       "      <td>151</td>\n",
       "    </tr>\n",
       "    <tr>\n",
       "      <th>exercise_angina</th>\n",
       "      <td>303</td>\n",
       "      <td>2</td>\n",
       "      <td>False</td>\n",
       "      <td>204</td>\n",
       "    </tr>\n",
       "    <tr>\n",
       "      <th>ST_slope</th>\n",
       "      <td>303</td>\n",
       "      <td>3</td>\n",
       "      <td>upsloping</td>\n",
       "      <td>142</td>\n",
       "    </tr>\n",
       "    <tr>\n",
       "      <th>blood_flow</th>\n",
       "      <td>303</td>\n",
       "      <td>3</td>\n",
       "      <td>normal</td>\n",
       "      <td>167</td>\n",
       "    </tr>\n",
       "  </tbody>\n",
       "</table>\n",
       "</div>"
      ],
      "text/plain": [
       "                count unique           top freq\n",
       "sex               303      2          Male  206\n",
       "chest_pain_type   303      4  asymptomatic  144\n",
       "diabetes          303      2         False  258\n",
       "ecg_rest          303      3        normal  151\n",
       "exercise_angina   303      2         False  204\n",
       "ST_slope          303      3     upsloping  142\n",
       "blood_flow        303      3        normal  167"
      ]
     },
     "execution_count": 57,
     "metadata": {},
     "output_type": "execute_result"
    }
   ],
   "source": [
    "# 3.2.2. Summary statistics for the categorical and boolean features\n",
    "\n",
    "# Include the proportions and count when visualization of the categorical varaibles - use bar chart !!!\n",
    "\n",
    "heart_data_eda.describe(include = [\"category\", bool]).T"
   ]
  },
  {
   "cell_type": "code",
   "execution_count": 58,
   "metadata": {},
   "outputs": [
    {
     "data": {
      "text/plain": [
       "Male      206\n",
       "Female     97\n",
       "Name: sex, dtype: int64"
      ]
     },
     "execution_count": 58,
     "metadata": {},
     "output_type": "execute_result"
    }
   ],
   "source": [
    "# counts of a categorical variable - todo: remove from here!\n",
    "heart_data_eda[\"sex\"].value_counts()"
   ]
  },
  {
   "cell_type": "code",
   "execution_count": 59,
   "metadata": {},
   "outputs": [
    {
     "data": {
      "text/plain": [
       "Male      0.679868\n",
       "Female    0.320132\n",
       "Name: sex, dtype: float64"
      ]
     },
     "execution_count": 59,
     "metadata": {},
     "output_type": "execute_result"
    }
   ],
   "source": [
    "# proportions of a categorical variable - todo: remove from here!\n",
    "heart_data_eda[\"sex\"].value_counts(normalize = True)"
   ]
  },
  {
   "cell_type": "markdown",
   "metadata": {},
   "source": [
    "#### 3.3. Explore numeric variables - univariate distirbutions"
   ]
  }
 ],
 "metadata": {
  "kernelspec": {
   "display_name": "Python 3",
   "language": "python",
   "name": "python3"
  },
  "language_info": {
   "codemirror_mode": {
    "name": "ipython",
    "version": 3
   },
   "file_extension": ".py",
   "mimetype": "text/x-python",
   "name": "python",
   "nbconvert_exporter": "python",
   "pygments_lexer": "ipython3",
   "version": "3.8.5"
  }
 },
 "nbformat": 4,
 "nbformat_minor": 4
}
